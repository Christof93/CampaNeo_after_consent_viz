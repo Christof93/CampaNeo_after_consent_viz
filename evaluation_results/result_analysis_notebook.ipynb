{
 "cells": [
  {
   "cell_type": "code",
   "execution_count": 1,
   "metadata": {},
   "outputs": [],
   "source": [
    "import numpy as np\n",
    "import pandas as pd"
   ]
  },
  {
   "cell_type": "code",
   "execution_count": 2,
   "metadata": {},
   "outputs": [],
   "source": [
    "pretest = pd.read_csv('pretest.csv')\n",
    "posttest =  pd.read_csv('design_comprehension.csv')"
   ]
  },
  {
   "cell_type": "code",
   "execution_count": 3,
   "metadata": {},
   "outputs": [
    {
     "name": "stdout",
     "output_type": "stream",
     "text": [
      "pre test demographics questions:\n",
      "0 Zeitstempel\n",
      "1 Please enter your user ID:\n",
      "2 What is your age?\n",
      "3 What is your gender?\n",
      "4 What is your ethnicity?\n",
      "5 What is the highest level of education you have completed/received? \n",
      "6 What is your marital status?\n",
      "7 Select your level of Internet surfing competency:\n",
      "8 How many hours a day do you spend on the Internet?\n",
      "9 What device do you prefer for Internet browsing?\n",
      "10 Do you own a car?\n",
      "11 Do you have a driver's license?\n",
      "12 How often do you drive a car?\n",
      "13 What is your main mean of transport?\n",
      "14 Do you think companies and institutions in Europe respect your data privacy?\n",
      "15 In a situation like described in the introduction, are you willing to send your user data to companies or institutions, so they can improve user experience more efficiently?\n",
      "16 If you ever gave your consent to send user data to a company or institution, why did you decide to do so?\n",
      "17 Would you agree to share vehicle data like GPS location, speedometer data or fuel gauge readings with certain companies or institutions?\n",
      "18 Do you frequently use social media platforms like Facebook or Instagram? \n",
      "19 Which, if any, of these messaging apps are you using?\n",
      "\n",
      "post test evaluation questions:\n",
      "0 Zeitstempel\n",
      "1 Please enter your user ID:\n",
      "2 What device did you use to interact with the application? \n",
      "3 How difficult is reading the characters on the screen?\n",
      "4 How difficult is differentiating all colours on the screen?\n",
      "5 What is your opinion about organization of information on the screen?\n",
      "6 How difficult is it to navigate the application?\n",
      "7 How would you rate the design of the application?\n",
      "8 Select the adjectives that describe the application the best in your opinion:\n",
      "9 Select your overall satisfaction with the user interface:\t\t\n",
      "10 I think the graph is very useful in this visualisation. \n",
      "11 Please, add here any other comments:\n",
      "12 I understand what is visualised in the application.\n",
      "13 I can view each campaign easily.\n",
      "14 I can see who has my data.\n",
      "15 The graph helped me understand what happens to my data.\n",
      "16 I feel more confident in my knowledge of data sharing.\n",
      "17 I understand how to select a campaign.\n",
      "18 I can easily see what happened to my data at a specific time.\n",
      "19 Do you think companies and institutions in Europe respect your data privacy?\n",
      "20 Do you think using this tool creates an added value which was missing before?\n",
      "21 If such a tool were available to you in any service or application, would you share selected data with a company or institution?\n",
      "22 Would you agree to share vehicle data like GPS location, speedometer data or fuel gauge readings, if you had the tool available to control the sharing activities?\n",
      "23 Please insert here additional comments concerning  data privacy concerns of the tool.\n"
     ]
    }
   ],
   "source": [
    "print(\"pre test demographics questions:\")\n",
    "for i,c in enumerate(pretest.columns):\n",
    "    print(i,c)\n",
    "print()\n",
    "print(\"post test evaluation questions:\")\n",
    "for i,c in enumerate(posttest.columns):\n",
    "    print(i,c)"
   ]
  },
  {
   "cell_type": "code",
   "execution_count": 4,
   "metadata": {},
   "outputs": [],
   "source": [
    "def show_difference(column_numbers):\n",
    "    print(\"before: \",pretest.columns[column_numbers[0]])\n",
    "    print(\"after: \",posttest.columns[column_numbers[1]])\n",
    "    print()\n",
    "    for before, after in  zip(np.array(pretest)[:,column_numbers[0]],np.array(posttest)[:,column_numbers[1]]):\n",
    "        if (before.startswith(\"Never\") or before.startswith(\"Probably not\"))\\\n",
    "            and (after.startswith(\"Yes\") or after.startswith(\"Possibly\"))\\\n",
    "            or after.endswith(\"rather than without the tool\"):\n",
    "            print(\"\\x1b[31m\"+before+\" --> \"+after+\"\\x1b[0m\")\n",
    "        elif (before.startswith(\"Never\") or before.startswith(\"Rarely\"))\\\n",
    "            and (after.startswith(\"Possibly\") or after==\"Yes\"):\n",
    "            print(\"\\x1b[31m\"+before+\" --> \"+after+\"\\x1b[0m\")\n",
    "        elif (before.startswith(\"No\") or before.startswith(\"Probably not\"))\\\n",
    "            and (after.startswith(\"Yes\") or after==\"Probably\"):\n",
    "            print(\"\\x1b[31m\"+before+\" --> \"+after+\"\\x1b[0m\")\n",
    "        else:\n",
    "            print(before+\" --> \"+after)"
   ]
  },
  {
   "cell_type": "code",
   "execution_count": 5,
   "metadata": {},
   "outputs": [],
   "source": [
    "def percentage_of_choices(a_list, length=None):\n",
    "    if not length:\n",
    "        length = len(a_list)\n",
    "    unique, counts = np.unique(a_list, return_counts=True)\n",
    "    percent = {val:count/length for val,count in zip(unique, counts)}\n",
    "    return percent"
   ]
  },
  {
   "cell_type": "code",
   "execution_count": 6,
   "metadata": {},
   "outputs": [],
   "source": [
    "def agree_percent(table, column_number):\n",
    "    agreed = [row for row in np.array(table)[:,column_number] if row == \"Agree\" or row==\"Strongly agree\"]\n",
    "    return len(agreed)/len(table)"
   ]
  },
  {
   "cell_type": "code",
   "execution_count": 7,
   "metadata": {},
   "outputs": [],
   "source": [
    "def disagree_percent(table, column_number):\n",
    "    disagreed = [row for row in np.array(table)[:,column_number] if row == \"Disagree\" or row==\"Strongly disagree\"]\n",
    "    return len(disagreed)/len(table)"
   ]
  },
  {
   "cell_type": "markdown",
   "metadata": {},
   "source": [
    "# Pre Test Demographics and Checks"
   ]
  },
  {
   "cell_type": "markdown",
   "metadata": {},
   "source": [
    "see google forms"
   ]
  },
  {
   "cell_type": "code",
   "execution_count": 17,
   "metadata": {},
   "outputs": [
    {
     "data": {
      "text/plain": [
       "array(['I felt like I had to agree to use the service.',\n",
       "       'To improve user experience of the product..',\n",
       "       'To improve user experience of the product..',\n",
       "       \"I didn't see a problem with it.\",\n",
       "       'To improve user experience of the product..',\n",
       "       \"I didn't see a problem with it.;I read through the agreement specifications and had nothing to object.\",\n",
       "       'I felt like I had to agree to use the service.',\n",
       "       \"I didn't see a problem with it.;To improve user experience of the product..\",\n",
       "       'Unintentionally;I felt like I had to agree to use the service.',\n",
       "       'Unintentionally;I felt like I had to agree to use the service.',\n",
       "       'I felt like I had to agree to use the service.',\n",
       "       \"I didn't see a problem with it.\",\n",
       "       'To improve user experience of the product..',\n",
       "       'To improve user experience of the product..',\n",
       "       'To improve user experience of the product..;I felt like I had to agree to use the service.',\n",
       "       'If it is a program that is done in an educational setting and part of academic research',\n",
       "       \"I didn't see a problem with it.\",\n",
       "       'I felt like I had to agree to use the service.',\n",
       "       'To improve user experience of the product..',\n",
       "       'I felt like I had to agree to use the service.',\n",
       "       'I felt like I had to agree to use the service.',\n",
       "       \"I didn't see a problem with it.;To improve user experience of the product..\",\n",
       "       'Unintentionally', 'Unintentionally',\n",
       "       'I felt like I had to agree to use the service.'], dtype=object)"
      ]
     },
     "execution_count": 17,
     "metadata": {},
     "output_type": "execute_result"
    }
   ],
   "source": [
    "np.array(pretest)[:,16]"
   ]
  },
  {
   "cell_type": "markdown",
   "metadata": {},
   "source": [
    "# Post Test Evaluation"
   ]
  },
  {
   "cell_type": "code",
   "execution_count": 8,
   "metadata": {},
   "outputs": [
    {
     "name": "stdout",
     "output_type": "stream",
     "text": [
      "I understand what is visualised in the application.\n",
      "agree: 0.9629629629629629\n",
      "disagree: 0.0\n",
      "\n",
      "I can view each campaign easily.\n",
      "agree: 0.9259259259259259\n",
      "disagree: 0.0\n",
      "\n",
      "I can see who has my data.\n",
      "agree: 0.9259259259259259\n",
      "disagree: 0.0\n",
      "\n",
      "The graph helped me understand what happens to my data.\n",
      "agree: 0.7407407407407407\n",
      "disagree: 0.07407407407407407\n",
      "\n",
      "I feel more confident in my knowledge of data sharing.\n",
      "agree: 0.5185185185185185\n",
      "disagree: 0.14814814814814814\n",
      "\n"
     ]
    }
   ],
   "source": [
    "for i in range(12,17):\n",
    "    print(posttest.columns[i])\n",
    "    print(\"agree:\", agree_percent(posttest, i))\n",
    "    print(\"disagree:\", disagree_percent(posttest, i))\n",
    "    print()"
   ]
  },
  {
   "cell_type": "code",
   "execution_count": 9,
   "metadata": {},
   "outputs": [
    {
     "name": "stdout",
     "output_type": "stream",
     "text": [
      "Do you think using this tool creates an added value which was missing before?\n",
      "['Yes' 'Maybe' 'Yes' 'Probably not' 'Yes' 'Yes' 'Maybe' 'Maybe' 'Maybe'\n",
      " 'Not at all' 'Maybe' 'Maybe' 'Yes' 'Yes' 'Yes' 'Yes' 'Yes' 'Maybe' 'Yes'\n",
      " 'Yes' 'Probably not' 'Yes' 'Maybe' 'Yes' 'Yes' 'Yes' 'Maybe']\n"
     ]
    }
   ],
   "source": [
    "print(posttest.columns[20])\n",
    "print(np.array(posttest)[:,20])"
   ]
  },
  {
   "cell_type": "markdown",
   "metadata": {},
   "source": [
    "13/15 of the participants think the tool creates an added value."
   ]
  },
  {
   "cell_type": "code",
   "execution_count": 10,
   "metadata": {},
   "outputs": [
    {
     "data": {
      "text/plain": [
       "0.8888888888888888"
      ]
     },
     "execution_count": 10,
     "metadata": {},
     "output_type": "execute_result"
    }
   ],
   "source": [
    "24/27"
   ]
  },
  {
   "cell_type": "markdown",
   "metadata": {},
   "source": [
    "Rate design on a scale from 1 to 4"
   ]
  },
  {
   "cell_type": "code",
   "execution_count": 11,
   "metadata": {
    "scrolled": true
   },
   "outputs": [
    {
     "name": "stdout",
     "output_type": "stream",
     "text": [
      "3.4444444444444446\n"
     ]
    }
   ],
   "source": [
    "print(np.mean(np.array(posttest)[:,7]))"
   ]
  },
  {
   "cell_type": "markdown",
   "metadata": {},
   "source": [
    "overall satisfaction"
   ]
  },
  {
   "cell_type": "code",
   "execution_count": 12,
   "metadata": {},
   "outputs": [
    {
     "data": {
      "text/plain": [
       "0.9629629629629629"
      ]
     },
     "execution_count": 12,
     "metadata": {},
     "output_type": "execute_result"
    }
   ],
   "source": [
    "satisfaction_percent = percentage_of_choices(np.array(posttest)[:,9])\n",
    "satisfaction_percent[\"Somewhat satisfied\"] + satisfaction_percent[\"Very satisfied\"]"
   ]
  },
  {
   "cell_type": "code",
   "execution_count": 13,
   "metadata": {},
   "outputs": [],
   "source": [
    "adjectives = percentage_of_choices(np.array(\";\".join(np.array(posttest)[:,8]).split(\";\")),length=len(np.array(posttest)[:,8]))"
   ]
  },
  {
   "cell_type": "code",
   "execution_count": 14,
   "metadata": {
    "scrolled": true
   },
   "outputs": [
    {
     "data": {
      "text/plain": [
       "{'Complex': 0.07407407407407407,\n",
       " 'Effective': 0.4444444444444444,\n",
       " 'Flexible': 0.3333333333333333,\n",
       " 'Hard to use': 0.037037037037037035,\n",
       " 'Innovative': 0.7037037037037037,\n",
       " 'Organised': 0.7407407407407407,\n",
       " 'Time-consuming': 0.07407407407407407,\n",
       " 'Valuable': 0.2962962962962963,\n",
       " 'nice to look at, useless': 0.037037037037037035}"
      ]
     },
     "execution_count": 14,
     "metadata": {},
     "output_type": "execute_result"
    }
   ],
   "source": [
    "adjectives"
   ]
  },
  {
   "cell_type": "code",
   "execution_count": 16,
   "metadata": {},
   "outputs": [
    {
     "name": "stdout",
     "output_type": "stream",
     "text": [
      "before:  Would you agree to share vehicle data like GPS location, speedometer data or fuel gauge readings with certain companies or institutions?\n",
      "after:  Would you agree to share vehicle data like GPS location, speedometer data or fuel gauge readings, if you had the tool available to control the sharing activities?\n",
      "\n",
      "Yes, but only certain selected types of data. --> Yes\n",
      "Yes, but only certain selected types of data. --> Yes\n",
      "\u001b[31mNever --> Possibly\u001b[0m\n",
      "Yes, but only certain selected types of data. --> Possibly\n",
      "\u001b[31mProbably not --> Possibly\u001b[0m\n",
      "Yes, but only certain selected types of data. --> Yes\n",
      "Probably not --> Probably not\n",
      "\u001b[31mProbably not --> Possibly\u001b[0m\n",
      "\u001b[31mProbably not --> Possibly, rather than without the tool\u001b[0m\n",
      "\u001b[31mProbably not --> Possibly, rather than without the tool\u001b[0m\n",
      "\u001b[31mYes --> Possibly, rather than without the tool\u001b[0m\n",
      "Yes --> Possibly\n",
      "\u001b[31mYes, but only certain selected types of data. --> Possibly, rather than without the tool\u001b[0m\n",
      "Yes, but only certain selected types of data. --> Yes\n",
      "\u001b[31mProbably not --> Possibly, rather than without the tool\u001b[0m\n",
      "Yes, but only certain selected types of data. --> Possibly\n",
      "Yes --> Yes\n",
      "\u001b[31mNever --> Yes\u001b[0m\n",
      "Yes, but only certain selected types of data. --> Not at all\n",
      "\u001b[31mNever --> Possibly, rather than without the tool\u001b[0m\n",
      "Probably not --> Probably not\n",
      "Yes, but only certain selected types of data. --> Probably not\n",
      "\u001b[31mProbably not --> Possibly\u001b[0m\n",
      "\u001b[31mNever --> Possibly, rather than without the tool\u001b[0m\n",
      "\u001b[31mProbably not --> Possibly, rather than without the tool\u001b[0m\n"
     ]
    }
   ],
   "source": [
    "show_difference((17,22))"
   ]
  },
  {
   "cell_type": "code",
   "execution_count": 17,
   "metadata": {},
   "outputs": [
    {
     "name": "stdout",
     "output_type": "stream",
     "text": [
      "before:  In a situation like described in the introduction, are you willing to send your user data to companies or institutions, so they can improve user experience more efficiently?\n",
      "after:  If such a tool were available to you in any service or application, would you share selected data with a company or institution?\n",
      "\n",
      "Sometimes --> Yes\n",
      "Always --> Possibly\n",
      "\u001b[31mRarely --> Possibly\u001b[0m\n",
      "\u001b[31mSometimes --> Possibly, rather than without the tool\u001b[0m\n",
      "Sometimes --> Possibly\n",
      "Sometimes --> Yes\n",
      "Never --> Probably not\n",
      "\u001b[31mSometimes --> Possibly, rather than without the tool\u001b[0m\n",
      "\u001b[31mRarely --> Possibly, rather than without the tool\u001b[0m\n",
      "Rarely --> Probably not\n",
      "\u001b[31mSometimes --> Possibly, rather than without the tool\u001b[0m\n",
      "\u001b[31mSometimes --> Possibly, rather than without the tool\u001b[0m\n",
      "Sometimes --> Yes\n",
      "\u001b[31mRarely --> Possibly\u001b[0m\n",
      "Rarely --> Probably not\n",
      "\u001b[31mRarely --> Possibly, rather than without the tool\u001b[0m\n",
      "Sometimes --> Yes\n",
      "\u001b[31mRarely --> Possibly, rather than without the tool\u001b[0m\n",
      "Sometimes --> Possibly\n",
      "\u001b[31mNever --> Yes\u001b[0m\n",
      "Rarely --> Probably not\n",
      "Sometimes --> Probably not\n",
      "\u001b[31mRarely --> Possibly\u001b[0m\n",
      "\u001b[31mRarely --> Possibly, rather than without the tool\u001b[0m\n",
      "\u001b[31mRarely --> Possibly, rather than without the tool\u001b[0m\n"
     ]
    }
   ],
   "source": [
    "show_difference((15,21))"
   ]
  },
  {
   "cell_type": "code",
   "execution_count": 18,
   "metadata": {},
   "outputs": [
    {
     "name": "stdout",
     "output_type": "stream",
     "text": [
      "before:  Do you think companies and institutions in Europe respect your data privacy?\n",
      "after:  Do you think companies and institutions in Europe respect your data privacy?\n",
      "\n",
      "Probably --> Probably\n",
      "Probably --> Probably\n",
      "Yes --> Probably\n",
      "Probably --> Probably\n",
      "Probably --> Probably not\n",
      "Yes --> Yes\n",
      "Probably --> Probably\n",
      "\u001b[31mProbably not --> Probably\u001b[0m\n",
      "\u001b[31mNo --> Probably\u001b[0m\n",
      "Probably --> Probably\n",
      "Yes --> Yes\n",
      "No --> Probably not\n",
      "Probably --> Probably\n",
      "Probably --> Probably\n",
      "Probably not --> Probably not\n",
      "Probably not --> Probably not\n",
      "Probably not --> Probably not\n",
      "\u001b[31mNo --> Probably\u001b[0m\n",
      "Yes --> Probably not\n",
      "Probably --> Probably\n",
      "No --> Probably not\n",
      "Yes --> Probably not\n",
      "\u001b[31mProbably not --> Yes\u001b[0m\n",
      "Probably not --> Probably not\n",
      "Probably --> Probably not\n"
     ]
    }
   ],
   "source": [
    "show_difference((14,19))"
   ]
  },
  {
   "cell_type": "code",
   "execution_count": null,
   "metadata": {},
   "outputs": [],
   "source": []
  },
  {
   "cell_type": "code",
   "execution_count": null,
   "metadata": {},
   "outputs": [],
   "source": []
  }
 ],
 "metadata": {
  "kernelspec": {
   "display_name": "adv_ml",
   "language": "python",
   "name": "adv_ml"
  },
  "language_info": {
   "codemirror_mode": {
    "name": "ipython",
    "version": 3
   },
   "file_extension": ".py",
   "mimetype": "text/x-python",
   "name": "python",
   "nbconvert_exporter": "python",
   "pygments_lexer": "ipython3",
   "version": "3.6.9"
  }
 },
 "nbformat": 4,
 "nbformat_minor": 4
}
